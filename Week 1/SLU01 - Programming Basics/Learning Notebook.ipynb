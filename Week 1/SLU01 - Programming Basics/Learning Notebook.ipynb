{
 "cells": [
  {
   "cell_type": "markdown",
   "metadata": {},
   "source": [
    "# SLU01 - Programming Basics"
   ]
  },
  {
   "cell_type": "markdown",
   "metadata": {},
   "source": [
    "In this notebook we will be covering the following:"
   ]
  },
  {
   "cell_type": "markdown",
   "metadata": {},
   "source": [
    "- Introduction to Python\n",
    "- How to get help\n",
    "- The `print()` function and its parameters; the Syntax error\n",
    "- How to comment your code\n",
    "- Basic data types: integers, floats, strings, booleans and None; the `type()` function\n",
    "- Converting between basic data types using `int()`, `float()`, `str()` and `bool()` functions; the Value error\n",
    "- Basic arithmetic operations; the ZeroDivision error\n",
    "- Operator Precedence\n",
    "- Strings concatenation and formatting\n",
    "- Introduction to variables; the Name error\n",
    "- Constants"
   ]
  },
  {
   "cell_type": "markdown",
   "metadata": {},
   "source": [
    "## Introduction to Python"
   ]
  },
  {
   "cell_type": "markdown",
   "metadata": {},
   "source": [
    "Programming is the process of writing instructions (code) to be executed by a computer in order to perform specific tasks. It's almost like teaching a toddler how to ride a bicycle or bake a cake. You break the process into individual steps and explain how each step should be performed in order for the toddler to complete the task successfully. \n",
    "\n",
    "Take a look at this [chocolate cake recipe](https://www.thespruceeats.com/classic-and-easy-chocolate-cake-recipe-995137), re-written below by a programmer:"
   ]
  },
  {
   "cell_type": "markdown",
   "metadata": {},
   "source": [
    "<img src=\"./media/recipe2.jpg\"/>"
   ]
  },
  {
   "cell_type": "markdown",
   "metadata": {},
   "source": [
    "In this recipe we have a set of ingredients that are baked into a cake. The process is broken into 16 distinct steps with specific instructions on how to prepare the ingredients for the next step. If you give this recipe to an english speaking person, he can follow the steps and bake a delicious chocolate cake. In the same way, if you give the computer a recipe (code) that it can understand, it can execute the recipe and return the expected result.\n",
    "\n",
    "You can think of programming as the act of writing code that a computer can follow to perform a task. The computer simply follows the intructions provided without critical thinking and returns the results to you. If the recipe is well written then the computer returns what you asked. But if the recipe is badly written then the computer [will follow your instructions](https://www.youtube.com/watch?v=cDA3_5982h8) but return something else or say that there was a problem while following the instructions. It is up to you to make sure that the code is well written. "
   ]
  },
  {
   "cell_type": "markdown",
   "metadata": {},
   "source": [
    "<img src=\"./media/code_execute_small.jpg\"/>"
   ]
  },
  {
   "cell_type": "markdown",
   "metadata": {},
   "source": [
    "If you have read the recipe above with the atmost attention, you might have noticed that some parts are highlighted with colors: 😄\n",
    "- The blue parts represent actions/**operations** that the reader should perform.\n",
    "- The orange parts represent **objects** that can hold the ingredients; like containers. They might be empty, filled with some ingredients or added even more ingredients.\n",
    "- The yellow parts represent instructions on **how** and/or **when** certain actions/**operations** should be performed. These instructions can be explicitly established by the writer (e.g. `For 10 minutes`) or left for the reader to decide based on certain conditions (e.g. `If cake is cool`).\n",
    "\n",
    "Basically, most recipes tell you how to process and store the ingredients and provide information on how to control the execution of the dish. Code is similar."
   ]
  },
  {
   "cell_type": "markdown",
   "metadata": {},
   "source": [
    "The same way an english speaking person can read the recipe, the computer can read code that it's written in a language that it can understand. Languages that a computer can read and execute are called programming languages. There is an indefinite number of programming languages, each with a different purpose, syntax and philosophy. One such language is Python.\n",
    "[Python](https://en.wikipedia.org/wiki/Python_(programming_language)) is a general-purpose programming language created by Guido van Rossum and released in 1991. It was designed to have a solid set of basic functionalities built-in and to be highly expandable with the usage of modules and packages, encouraging code re-usage. The Python interpreter and the extensive standard library are freely distributed. Python's design philosophy emphasizes code readability. For these and other reasons, it became a wildly popular language."
   ]
  },
  {
   "cell_type": "markdown",
   "metadata": {},
   "source": [
    "## How to get help"
   ]
  },
  {
   "cell_type": "markdown",
   "metadata": {},
   "source": [
    "While writing code it is natural to encounter pesky errors messages that won't disappear, use modules that are not familiar or outright not knowing how to perform some tasks.\n",
    "Over the years the Python community has grown significantly. There are a lot of people that collaborate to maintain and improve the Python core, develop new modules to expand the Python functionalities but are also available to help each other solving issues and answering questions."
   ]
  },
  {
   "cell_type": "markdown",
   "metadata": {},
   "source": [
    "<img src=\"./media/99bugs_small.jpg\"/>\n",
    "\n",
    "[\"A software bug is an error, flaw or fault in a computer program or system that causes it to produce an incorrect or unexpected result (...)\"](https://en.wikipedia.org/wiki/Software_bug)"
   ]
  },
  {
   "cell_type": "markdown",
   "metadata": {},
   "source": [
    "To complement the SLUs you can go to this [wiki](https://wiki.python.org/moin/BeginnersGuide/NonProgrammers) for tons of resources to learn the basics of Python.\n",
    "\n",
    "One resource that you can use is the documentation of the [Python language](https://docs.python.org/3/).\n",
    "You can access tutorials, the Python Language Reference and other materials. \n",
    "\n",
    "If you have specific issues that the documentation does not clarify you can ask the community for help. You can ask questions on the [official Python forum](https://python-forum.io/index.php) or on [Stack Overflow](https://stackoverflow.com/). Stack Overflow is a pretty popular website with Q&A on a lot of programming languages. When searching for a question in the question bar you can use a Python tag [Python] or [python-3.x] to avoid similar questions about another language. If a question was answered many years ago it might be about Python 2 which is now discontinued. Try to confirm that the answers are related to **Python 3** and not Python 2.\n",
    "\n",
    "In SLU09 - Linear Algebra & NumPy, Part 1, you will be using the [NumPy package](https://numpy.org/). As most popular packages, NumPy has a dedicated documentation page, a getting started page, an examples page and community links. You can use these resources to learn more about the package that you are using.\n",
    "\n",
    "If everything fails you can always use a search engine to find help. Start your searches with the word \"python\" to filter out similar questions from other programming languages. If you are encountering an error message, try searching for it in a succint but detailed way. Be as specific as you can.\n",
    "\n",
    "Another resource that you can use is the Python Enhancement Proposals (PEPs), specially [PEP8](https://www.python.org/dev/peps/pep-0008/). In PEP8 there is a series of recommendations on the style of Python code. It's a great resource to learn how to improve the readability of your code. [PEP20](https://www.python.org/dev/peps/pep-0020/) aka *The Zen of Python* is a document with guidelines used while designing the Python language. The guidelines are explained [here](https://inventwithpython.com/blog/2018/08/17/the-zen-of-python-explained/). Don't worry if you don't understand everything on these documents. Some topics are a bit advanced.\n",
    "\n",
    "With that out of the way, let's get coding! "
   ]
  },
  {
   "cell_type": "markdown",
   "metadata": {},
   "source": [
    "<img src=\"./media/cracking.gif\"/>"
   ]
  },
  {
   "cell_type": "markdown",
   "metadata": {},
   "source": [
    "## The `print()` function and its parameters; the Syntax error"
   ]
  },
  {
   "cell_type": "markdown",
   "metadata": {},
   "source": [
    "The first built-in function that we are using is the `print()` [function](https://docs.python.org/3.7/library/functions.html#print). "
   ]
  },
  {
   "cell_type": "code",
   "execution_count": 1,
   "metadata": {},
   "outputs": [
    {
     "name": "stdout",
     "output_type": "stream",
     "text": [
      "Hello, World!\n"
     ]
    }
   ],
   "source": [
    "print(\"Hello, World!\")"
   ]
  },
  {
   "cell_type": "markdown",
   "metadata": {},
   "source": [
    "The `print()` function sends the argument data to the output cell. In this case, the argument `\"Hello, World!\"` is a string. Strings are delimited with quotes and the computer will consider them literally and not as code.\n",
    "The `print()` function can also output virtually all types of data provided by Python, such as integers or floats."
   ]
  },
  {
   "cell_type": "code",
   "execution_count": 2,
   "metadata": {},
   "outputs": [
    {
     "name": "stdout",
     "output_type": "stream",
     "text": [
      "10\n"
     ]
    }
   ],
   "source": [
    "print(10)"
   ]
  },
  {
   "cell_type": "code",
   "execution_count": 3,
   "metadata": {},
   "outputs": [
    {
     "name": "stdout",
     "output_type": "stream",
     "text": [
      "2.3\n"
     ]
    }
   ],
   "source": [
    "print(2.3)"
   ]
  },
  {
   "cell_type": "markdown",
   "metadata": {},
   "source": [
    "If you want to call the `print()` function more than once, you **should** put each call in a separate line. While you can write *Compound statements* (having multiple statements in the same line separated by semicolon `;`), this is [discouraged](https://www.python.org/dev/peps/pep-0008/#other-recommendations).\n",
    "\n",
    "It is advisable to only write **one instruction per line**. Lines can be empty though, i.e. without any instructions. Writing multiple instructions in the same line (without `;`) results in a syntax error as shown below."
   ]
  },
  {
   "cell_type": "code",
   "execution_count": 4,
   "metadata": {},
   "outputs": [
    {
     "ename": "SyntaxError",
     "evalue": "invalid syntax (<ipython-input-4-ba43bbb0e998>, line 1)",
     "output_type": "error",
     "traceback": [
      "\u001b[0;36m  File \u001b[0;32m\"<ipython-input-4-ba43bbb0e998>\"\u001b[0;36m, line \u001b[0;32m1\u001b[0m\n\u001b[0;31m    print(10) print(2.3)\u001b[0m\n\u001b[0m                  ^\u001b[0m\n\u001b[0;31mSyntaxError\u001b[0m\u001b[0;31m:\u001b[0m invalid syntax\n"
     ]
    }
   ],
   "source": [
    "print(10) print(2.3)"
   ]
  },
  {
   "cell_type": "markdown",
   "metadata": {},
   "source": [
    "A syntax error occurs when the instructions do not follow the rules defined by the language and therefore the Python interpreter is unable to understand the line of code. It is frequently due to typos, incorrect indentation or incorrect arguments. Before executing the code the interpreter verifies the syntax of the code and if there is an error in the syntax, no code is executed."
   ]
  },
  {
   "cell_type": "markdown",
   "metadata": {},
   "source": [
    "<img src=\"./media/hurt_small.png\"/>"
   ]
  },
  {
   "cell_type": "markdown",
   "metadata": {},
   "source": [
    "The instructions are performed in the order that they are written in the code. The previous instructions can all be re-written in the same cell and executed one after the other:"
   ]
  },
  {
   "cell_type": "code",
   "execution_count": 5,
   "metadata": {},
   "outputs": [
    {
     "name": "stdout",
     "output_type": "stream",
     "text": [
      "Hello, World!\n",
      "10\n",
      "2.3\n"
     ]
    }
   ],
   "source": [
    "print(\"Hello, World!\")\n",
    "print(10)\n",
    "print(2.3)"
   ]
  },
  {
   "cell_type": "markdown",
   "metadata": {},
   "source": [
    "---"
   ]
  },
  {
   "cell_type": "markdown",
   "metadata": {},
   "source": [
    "The `print()` function accepts more than one argument. You can write several values inside the `print()` function separated by commas `,`."
   ]
  },
  {
   "cell_type": "code",
   "execution_count": 6,
   "metadata": {},
   "outputs": [
    {
     "name": "stdout",
     "output_type": "stream",
     "text": [
      "There are 5 continents in the World, according to the UN.\n"
     ]
    }
   ],
   "source": [
    "print(\"There are\", 5, \"continents in the World, according to the UN.\")"
   ]
  },
  {
   "cell_type": "markdown",
   "metadata": {},
   "source": [
    "The `print()` function prints the arguments separated with white spaces by default (`sep=\" \"`). You can change the separation between argument(s) with the `sep` keyword. **After** the arguments that you want to print, add `sep=` and the separator that you want. The separator must be a **string**."
   ]
  },
  {
   "cell_type": "code",
   "execution_count": 9,
   "metadata": {},
   "outputs": [
    {
     "name": "stdout",
     "output_type": "stream",
     "text": [
      "There are!5!continents in the World, according to the UN.\n"
     ]
    }
   ],
   "source": [
    "print(\"There are\", 5, \"continents in the World, according to the UN.\",sep=\"!\")"
   ]
  },
  {
   "cell_type": "markdown",
   "metadata": {},
   "source": [
    "Each `print()` call ends with the character newline `\\n` (`end=\"\\n\"`). This character indicates that a new line is to be started at that point. You can replace this character with the `end` keyword. **After** the argument(s) that you want to print, add `end=` and the ending that you want. The ending must be a **string**."
   ]
  },
  {
   "cell_type": "code",
   "execution_count": 6,
   "metadata": {},
   "outputs": [
    {
     "name": "stdout",
     "output_type": "stream",
     "text": [
      "Hello, World! 10 2.3 "
     ]
    }
   ],
   "source": [
    "print(\"Hello, World!\", end=\" \")\n",
    "print(10, end=\" \")\n",
    "print(2.3, end=\" \")"
   ]
  },
  {
   "cell_type": "markdown",
   "metadata": {},
   "source": [
    "Instead of each `print()` starting in a new line, they have spaces in between. You can change both `sep=` and `end=` if you need. You'll see later that some arguments have default values that are always used unless **explicitly** changed by the programmer."
   ]
  },
  {
   "cell_type": "markdown",
   "metadata": {},
   "source": [
    "We will use the `print()` function frequently to check the value of variables during the code execution and to help debugging (finding errors) the code. "
   ]
  },
  {
   "cell_type": "markdown",
   "metadata": {},
   "source": [
    "---"
   ]
  },
  {
   "cell_type": "markdown",
   "metadata": {},
   "source": [
    "One additional point regarding the `print()` function. It does **NOT** show the result of the cell. The `print()` only prints to the screen its arguments. "
   ]
  },
  {
   "cell_type": "code",
   "execution_count": 16,
   "metadata": {},
   "outputs": [
    {
     "name": "stdout",
     "output_type": "stream",
     "text": [
      "print() returns the None value. Therefore the printed value is not present in the output cell.\n"
     ]
    }
   ],
   "source": [
    "print(\"print() returns the None value. Therefore the printed value is not present in the output cell.\")"
   ]
  },
  {
   "cell_type": "markdown",
   "metadata": {},
   "source": [
    "The example above only contains a `print()` statement. The arguments of `print()` are not outputted to the output cell (with `Out [x]:` on the left). They are outputted to the *Standard Output* which, for all intents and purposes, is the space between the input cell (with `In [x]:` on the left) and the output cell."
   ]
  },
  {
   "cell_type": "markdown",
   "metadata": {},
   "source": [
    "---"
   ]
  },
  {
   "cell_type": "markdown",
   "metadata": {},
   "source": [
    "The results of the **last statement of an input cell** are shown on the respective output cell. "
   ]
  },
  {
   "cell_type": "code",
   "execution_count": 1,
   "metadata": {},
   "outputs": [
    {
     "data": {
      "text/plain": [
       "'This string is the last result of the cell! On the left is Out[X]:'"
      ]
     },
     "execution_count": 1,
     "metadata": {},
     "output_type": "execute_result"
    }
   ],
   "source": [
    "\"This will not appear at all.\"\n",
    "\"This string is the last result of the cell! On the left is Out[X]:\" "
   ]
  },
  {
   "cell_type": "markdown",
   "metadata": {},
   "source": [
    "Above are two statements that return values. Only the last result is outputted to the output cell. The first statement is still executed but the result is not shown on the output cell.\n",
    "\n",
    "Only showing the last result of the cell is the default behaviour of jupyter notebooks. You can change it but this is outside the scope of this lesson.\n",
    "\n",
    "In this SLU all the results that we want to see are explicitly printed with the `print()` function. Other instructors might use the last statement of the cell to show the results. These are both valid approaches that you are now aware of."
   ]
  },
  {
   "cell_type": "markdown",
   "metadata": {},
   "source": [
    "## How to comment your code"
   ]
  },
  {
   "cell_type": "markdown",
   "metadata": {},
   "source": [
    "As the programmer writes more and more code, the complexity can increase significantly."
   ]
  },
  {
   "cell_type": "markdown",
   "metadata": {},
   "source": [
    "<img src=\"./media/escalated_quickly_small.png\"/>"
   ]
  },
  {
   "cell_type": "markdown",
   "metadata": {},
   "source": [
    "To relieve some of the complexity we can use comments to document the code. Comments make the code more readable for humans and are ignored by the Python interpreter. They allow to detail what certain pieces of code are for so that other programmers and yourself understand the thought process when you wrote the code. It is unnecessarily time-consuming to review code that has little comments; good programmers use comments as much as possible.\n",
    "\n",
    "Comments in Python start with the hash character `#` and everything written afterwards in the same line is ignored."
   ]
  },
  {
   "cell_type": "code",
   "execution_count": 1,
   "metadata": {},
   "outputs": [
    {
     "name": "stdout",
     "output_type": "stream",
     "text": [
      "Hello, World!\n"
     ]
    }
   ],
   "source": [
    "#This is a comment.\n",
    "print(\"Hello, World!\")"
   ]
  },
  {
   "cell_type": "markdown",
   "metadata": {},
   "source": [
    "The comment can be inserted at the end of a line and everything right of `#` is ignored."
   ]
  },
  {
   "cell_type": "code",
   "execution_count": 19,
   "metadata": {},
   "outputs": [
    {
     "name": "stdout",
     "output_type": "stream",
     "text": [
      "Hello, World!\n"
     ]
    }
   ],
   "source": [
    "print(\"Hello, World!\") #Here the string is printed."
   ]
  },
  {
   "cell_type": "markdown",
   "metadata": {},
   "source": [
    "You can comment code that you don't want the interpreter to execute."
   ]
  },
  {
   "cell_type": "code",
   "execution_count": 20,
   "metadata": {},
   "outputs": [
    {
     "name": "stdout",
     "output_type": "stream",
     "text": [
      "Hello, World!\n"
     ]
    }
   ],
   "source": [
    "print(\"Hello, World!\")\n",
    "#print(\"This is not going to be printed!\")"
   ]
  },
  {
   "cell_type": "markdown",
   "metadata": {},
   "source": [
    "This is a great way to debug code by \"turning off\" certain lines of code without having to delete them."
   ]
  },
  {
   "cell_type": "markdown",
   "metadata": {},
   "source": [
    "## Basic data types: integers, floats, strings, booleans and None; the `type()` function"
   ]
  },
  {
   "cell_type": "markdown",
   "metadata": {},
   "source": [
    "Not all data are created equal. Different types of data were developed for specific purposes. We've already seen strings, integers and floats but here we are going to discuss them with a bit more detail."
   ]
  },
  {
   "cell_type": "markdown",
   "metadata": {},
   "source": [
    "<img src=\"./media/letters.gif\"/>"
   ]
  },
  {
   "cell_type": "markdown",
   "metadata": {},
   "source": [
    "### Integers"
   ]
  },
  {
   "cell_type": "markdown",
   "metadata": {},
   "source": [
    "Integers are numbers that do not contain a fractional part. Negative integers are preceded by a minus sign `-`."
   ]
  },
  {
   "cell_type": "code",
   "execution_count": 17,
   "metadata": {},
   "outputs": [
    {
     "name": "stdout",
     "output_type": "stream",
     "text": [
      "-12\n"
     ]
    }
   ],
   "source": [
    "print(-12)"
   ]
  },
  {
   "cell_type": "markdown",
   "metadata": {},
   "source": [
    "Positive integers are not required to have a preceding plus sign `+` but you can include it if you want. A preceding plus or minus sign are unary operators because they only operate on a single value."
   ]
  },
  {
   "cell_type": "code",
   "execution_count": 7,
   "metadata": {},
   "outputs": [
    {
     "name": "stdout",
     "output_type": "stream",
     "text": [
      "12\n"
     ]
    }
   ],
   "source": [
    "print(+12)"
   ]
  },
  {
   "cell_type": "markdown",
   "metadata": {},
   "source": [
    "### Floats"
   ]
  },
  {
   "cell_type": "markdown",
   "metadata": {},
   "source": [
    "Floating-point numbers (or commonly called floats) are numbers that do contain a fractional part. The integer part is separated from the fractional part by a decimal point `.`."
   ]
  },
  {
   "cell_type": "code",
   "execution_count": 8,
   "metadata": {},
   "outputs": [
    {
     "name": "stdout",
     "output_type": "stream",
     "text": [
      "42.12\n"
     ]
    }
   ],
   "source": [
    "#Printing float 42.12\n",
    "print(42.12)\n",
    "#      ^  ^\n",
    "#      |  |\n",
    "#      |  Decimal part\n",
    "#      Integer part"
   ]
  },
  {
   "cell_type": "markdown",
   "metadata": {},
   "source": [
    "Even though the comma `,` is used in some languages to separate the integer part from the fractional part, in Python the fractional part of a float is declared by using a **single** decimal point `.`. The comma sign has other purposes and **cannot** be used to write a float number. Using it can result in errors or unwanted outcomes."
   ]
  },
  {
   "cell_type": "code",
   "execution_count": 30,
   "metadata": {},
   "outputs": [
    {
     "name": "stdout",
     "output_type": "stream",
     "text": [
      "42 12\n",
      "42.12\n"
     ]
    }
   ],
   "source": [
    "#In this case, using the comma creates two arguments for the print function.\n",
    "print(42,12) #This prints the integer 42, a whitespace and the integer 12.\n",
    "print(42.12) #This prints the float 42.12"
   ]
  },
  {
   "cell_type": "markdown",
   "metadata": {},
   "source": [
    "If more than a single decimal point is used, the interpreter will return a syntax error."
   ]
  },
  {
   "cell_type": "code",
   "execution_count": 29,
   "metadata": {},
   "outputs": [
    {
     "ename": "SyntaxError",
     "evalue": "invalid syntax (<ipython-input-29-e808d8bcf66f>, line 1)",
     "output_type": "error",
     "traceback": [
      "\u001b[1;36m  File \u001b[1;32m\"<ipython-input-29-e808d8bcf66f>\"\u001b[1;36m, line \u001b[1;32m1\u001b[0m\n\u001b[1;33m    print(42.000.000)\u001b[0m\n\u001b[1;37m                   ^\u001b[0m\n\u001b[1;31mSyntaxError\u001b[0m\u001b[1;31m:\u001b[0m invalid syntax\n"
     ]
    }
   ],
   "source": [
    "print(42.000.000)"
   ]
  },
  {
   "cell_type": "markdown",
   "metadata": {},
   "source": [
    "You can omit zero if it is the only digit before or after the decimal point."
   ]
  },
  {
   "cell_type": "code",
   "execution_count": 38,
   "metadata": {},
   "outputs": [
    {
     "name": "stdout",
     "output_type": "stream",
     "text": [
      "0.4\n",
      "0.4\n"
     ]
    }
   ],
   "source": [
    "print(.4)\n",
    "print(0.4) #Equivalent"
   ]
  },
  {
   "cell_type": "code",
   "execution_count": 39,
   "metadata": {},
   "outputs": [
    {
     "name": "stdout",
     "output_type": "stream",
     "text": [
      "5.0\n",
      "5.0\n"
     ]
    }
   ],
   "source": [
    "print(5.)\n",
    "print(5.0) #Equivalent"
   ]
  },
  {
   "cell_type": "markdown",
   "metadata": {},
   "source": [
    "One might think that `5.0` and `5` are the exact same thing; for Python these are different numbers:\n",
    "- `5` is an integer\n",
    "- `5.0` is a float\n",
    "\n",
    "It is the decimal point that defines a float. Another way to define a float, especially if very large or very small, is to use the scientific notation. In the scientific notation, numbers with a lot of zeros can be shortened. For example, the number $ 30000000$ can be written in scientific notation as $ 3 \\times 10^8$ and thus avoiding writing all the zeros. Try writing $1 \\times 10^{50}$ without using the scientific notation. 🙅‍♂️\n",
    "\n",
    "In Python, you can write in the scientific notation with the letter `E` (`e` also works). The letter `E` can be translated as \"times ten to the power of\". "
   ]
  },
  {
   "cell_type": "code",
   "execution_count": 9,
   "metadata": {},
   "outputs": [
    {
     "name": "stdout",
     "output_type": "stream",
     "text": [
      "300000000.0\n",
      "0.00012\n",
      "1200.0\n",
      "1e+50\n"
     ]
    }
   ],
   "source": [
    "print(3E8) #This is equivalent to 3.0 * (10 ** 2). \n",
    "#Even though both base and exponent are integers, the result is a float.\n",
    "\n",
    "print(1.2e-4) #This is equivalent to 1.2 * (10 ** -4)\n",
    "print(1.2e3) #This is equivalent to 1.2 * (10 ** 3)\n",
    "print(1E50) #This is equivalent to 1. * (10 ** 50)"
   ]
  },
  {
   "cell_type": "markdown",
   "metadata": {},
   "source": [
    "Note that the exponent (the value after `E`) **has to be an integer**; the base (the value before `E`) **may be an integer or a float**. Additionally, the result of using the scientific notation **is always a float** even if the base and exponent are both integers."
   ]
  },
  {
   "cell_type": "markdown",
   "metadata": {},
   "source": [
    "As with integers, a float can be negative."
   ]
  },
  {
   "cell_type": "code",
   "execution_count": 62,
   "metadata": {},
   "outputs": [
    {
     "name": "stdout",
     "output_type": "stream",
     "text": [
      "-12.45\n",
      "-28600.0\n"
     ]
    }
   ],
   "source": [
    "print(-12.45)\n",
    "print(-2.86e4)"
   ]
  },
  {
   "cell_type": "markdown",
   "metadata": {},
   "source": [
    "Python will use the most economical form for representing a number when outputting that number. The value that Python returns to you may have a different representation but it is still the same number."
   ]
  },
  {
   "cell_type": "code",
   "execution_count": 67,
   "metadata": {},
   "outputs": [
    {
     "name": "stdout",
     "output_type": "stream",
     "text": [
      "1e-15\n"
     ]
    }
   ],
   "source": [
    "print(0.000000000000001)"
   ]
  },
  {
   "cell_type": "markdown",
   "metadata": {},
   "source": [
    "### Strings"
   ]
  },
  {
   "cell_type": "markdown",
   "metadata": {},
   "source": [
    "Strings are what we coloquially call text. They can be inclosed inside quotes `\"This is a string.\"` or apostrophes `'This is also a string.'`. When printing, the quotation used is not shown."
   ]
  },
  {
   "cell_type": "code",
   "execution_count": 10,
   "metadata": {},
   "outputs": [
    {
     "name": "stdout",
     "output_type": "stream",
     "text": [
      "This is a string.\n",
      "This is also a string.\n"
     ]
    }
   ],
   "source": [
    "print(\"This is a string.\")\n",
    "print('This is also a string.')"
   ]
  },
  {
   "cell_type": "markdown",
   "metadata": {},
   "source": [
    "Using a single quote or apostrophe creates a string that has no end. Python will not be able to find the end of the string and will return a syntax error:"
   ]
  },
  {
   "cell_type": "code",
   "execution_count": 78,
   "metadata": {},
   "outputs": [
    {
     "ename": "SyntaxError",
     "evalue": "EOL while scanning string literal (<ipython-input-78-5d44bf5397b8>, line 1)",
     "output_type": "error",
     "traceback": [
      "\u001b[1;36m  File \u001b[1;32m\"<ipython-input-78-5d44bf5397b8>\"\u001b[1;36m, line \u001b[1;32m1\u001b[0m\n\u001b[1;33m    print(\"This is a )\u001b[0m\n\u001b[1;37m                      ^\u001b[0m\n\u001b[1;31mSyntaxError\u001b[0m\u001b[1;31m:\u001b[0m EOL while scanning string literal\n"
     ]
    }
   ],
   "source": [
    "#The ) is considered a part of the string\n",
    "print(\"This is a )"
   ]
  },
  {
   "cell_type": "markdown",
   "metadata": {},
   "source": [
    "What if you want to include a quote inside a string that is delimited by quotes? Or an apostrophe inside a string delimited by apostrophes? There are two options:\n",
    "\n",
    "- Use a backslash before the quote/apostrophe to create an escaped character."
   ]
  },
  {
   "cell_type": "markdown",
   "metadata": {},
   "source": [
    "print(\"\\\"An investment in knowledge always pays the best interest.\\\" - Benjamin Franklin\")\n",
    "print('\\'Everything you can imagine is real.\\' - Pablo Picasso')"
   ]
  },
  {
   "cell_type": "markdown",
   "metadata": {},
   "source": [
    "- Use apostrophes inside two quotes or quotes inside two apostrophes."
   ]
  },
  {
   "cell_type": "code",
   "execution_count": 11,
   "metadata": {},
   "outputs": [
    {
     "name": "stdout",
     "output_type": "stream",
     "text": [
      "'Imagination is more important than knowledge...' - Albert Einstein\n",
      "\"There is no harm in doubt and skepticism, for it is through these that new discoveries are made.\" - Richard Feynman\n"
     ]
    }
   ],
   "source": [
    "print(\"'Imagination is more important than knowledge...' - Albert Einstein\")\n",
    "print('\"There is no harm in doubt and skepticism, for it is through these that new discoveries are made.\" - Richard Feynman')"
   ]
  },
  {
   "cell_type": "markdown",
   "metadata": {},
   "source": [
    "Including a quote inside two quotes without escaping it creates a smaller string and leaves a leading quote without a closing one which produces a syntax error as can be seen below."
   ]
  },
  {
   "cell_type": "code",
   "execution_count": 12,
   "metadata": {},
   "outputs": [
    {
     "ename": "SyntaxError",
     "evalue": "EOL while scanning string literal (<ipython-input-12-f498a3c49047>, line 1)",
     "output_type": "error",
     "traceback": [
      "\u001b[0;36m  File \u001b[0;32m\"<ipython-input-12-f498a3c49047>\"\u001b[0;36m, line \u001b[0;32m1\u001b[0m\n\u001b[0;31m    print(\"This is a string\" \" )\u001b[0m\n\u001b[0m                                ^\u001b[0m\n\u001b[0;31mSyntaxError\u001b[0m\u001b[0;31m:\u001b[0m EOL while scanning string literal\n"
     ]
    }
   ],
   "source": [
    "print(\"This is a string\" \" )"
   ]
  },
  {
   "cell_type": "markdown",
   "metadata": {},
   "source": [
    "---"
   ]
  },
  {
   "cell_type": "markdown",
   "metadata": {},
   "source": [
    "Strings can be extended to more than a single line. There are two options to achieve this:\n",
    "- Use the newline character `\\n` to introduce a new line."
   ]
  },
  {
   "cell_type": "code",
   "execution_count": 87,
   "metadata": {},
   "outputs": [
    {
     "name": "stdout",
     "output_type": "stream",
     "text": [
      "old pond\n",
      "frog leaps in\n",
      "water's sound\n",
      "- Translated Bashō's \"old pond\"\n"
     ]
    }
   ],
   "source": [
    "print(\"old pond\\nfrog leaps in\\nwater's sound\\n- Translated Bashō's \\\"old pond\\\"\")\n",
    "#Any space around \\n is also part of the string. Try adding a space after \\n to see the difference."
   ]
  },
  {
   "cell_type": "markdown",
   "metadata": {},
   "source": [
    "- Enclose the string in triple quotes `\"\"\"`. The ends of lines are automatically included in the string. This can be prevented by adding a `\\` at the end of the line."
   ]
  },
  {
   "cell_type": "code",
   "execution_count": 1,
   "metadata": {},
   "outputs": [
    {
     "name": "stdout",
     "output_type": "stream",
     "text": [
      "A Silly Poem by Spike Milligan\n",
      "\n",
      "Said Hamlet to Ophelia,\n",
      "I'll draw a sketch of thee,\n",
      "What kind of pencil shall I use?\n",
      "2B or not 2B?\n",
      "\n"
     ]
    }
   ],
   "source": [
    "#The \\ prevents the name of the poem to be separated from the author. Delete it to see the difference.\n",
    "print(\"\"\"A Silly Poem \\\n",
    "by Spike Milligan\n",
    "\n",
    "Said Hamlet to Ophelia,\n",
    "I'll draw a sketch of thee,\n",
    "What kind of pencil shall I use?\n",
    "2B or not 2B?\n",
    "\"\"\"\n",
    ")"
   ]
  },
  {
   "cell_type": "markdown",
   "metadata": {},
   "source": [
    "---"
   ]
  },
  {
   "cell_type": "markdown",
   "metadata": {},
   "source": [
    "A string can also be empty."
   ]
  },
  {
   "cell_type": "code",
   "execution_count": 104,
   "metadata": {},
   "outputs": [
    {
     "name": "stdout",
     "output_type": "stream",
     "text": [
      "First empty string:\n",
      "\n",
      "Second empty string:\n",
      "\n"
     ]
    }
   ],
   "source": [
    "print('First empty string:')\n",
    "print(\"\")\n",
    "print('Second empty string:')\n",
    "print('')"
   ]
  },
  {
   "cell_type": "markdown",
   "metadata": {},
   "source": [
    "### Booleans"
   ]
  },
  {
   "cell_type": "markdown",
   "metadata": {},
   "source": [
    "Booleans are a bit more abstract than the above mentioned data types. They represent the value of truthfulness. When asking to check if a number is greater than another, for instance, Python returns a boolean value to indicate if it is true or false. "
   ]
  },
  {
   "cell_type": "code",
   "execution_count": 13,
   "metadata": {},
   "outputs": [
    {
     "name": "stdout",
     "output_type": "stream",
     "text": [
      "Is 2 larger than 1? True\n",
      "Is 2 smaller than 1? False\n"
     ]
    }
   ],
   "source": [
    "print(\"Is 2 larger than 1?\", 2 > 1)\n",
    "print(\"Is 2 smaller than 1?\", 2 < 1)"
   ]
  },
  {
   "cell_type": "markdown",
   "metadata": {},
   "source": [
    "Booleans can only be `True` or `False` and are mainly used when controlling the flow of execution as you'll see in great detail in SLU03 - Flow Control.\n",
    "\n",
    "In Python `True` is equivalent to the integer `1` and `False` is equivalent to `0`. The distinction was created for clarity (Extra fact: the boolean class is a subclass of integers as explained in [PEP285](https://docs.python.org/3/whatsnew/2.3.html#pep-285-a-boolean-type)). Operations that can be done with `0` and `1` can be performed with `True` and `False`."
   ]
  },
  {
   "cell_type": "markdown",
   "metadata": {},
   "source": [
    "The bolean values **are not equivalent** to the strings `\"True\"` and `\"False\"`, even though they seem the same when printing."
   ]
  },
  {
   "cell_type": "code",
   "execution_count": 116,
   "metadata": {},
   "outputs": [
    {
     "name": "stdout",
     "output_type": "stream",
     "text": [
      "True\n",
      "True\n"
     ]
    }
   ],
   "source": [
    "#These are not the same.\n",
    "print(True)\n",
    "print(\"True\")"
   ]
  },
  {
   "cell_type": "markdown",
   "metadata": {},
   "source": [
    "### The None value"
   ]
  },
  {
   "cell_type": "markdown",
   "metadata": {},
   "source": [
    "Frequently programming languages have a specific value to mean 'empty' or that 'there is no value here'. In Python that value is `None`. You will see later that a function which does not explicitly return a value will return `None`."
   ]
  },
  {
   "cell_type": "code",
   "execution_count": 15,
   "metadata": {},
   "outputs": [
    {
     "name": "stdout",
     "output_type": "stream",
     "text": [
      "None\n"
     ]
    }
   ],
   "source": [
    "print(None)"
   ]
  },
  {
   "cell_type": "markdown",
   "metadata": {},
   "source": [
    "### Identifying the data type with `type()`"
   ]
  },
  {
   "cell_type": "markdown",
   "metadata": {},
   "source": [
    "When unsure about the data type of a particular value the function `type()` can be use to [determine the data type of its argument](https://docs.python.org/3/library/functions.html#type). "
   ]
  },
  {
   "cell_type": "code",
   "execution_count": 16,
   "metadata": {},
   "outputs": [
    {
     "name": "stdout",
     "output_type": "stream",
     "text": [
      "The data type of 1 is <class 'int'>\n",
      "The data type of 1. is <class 'float'>\n",
      "The data type of -3E2 is <class 'float'>\n",
      "The data type of 'This is a string.' is <class 'str'>\n",
      "The data type of 'True': <class 'str'> is not the same as the data type of True: <class 'bool'>\n",
      "The data type of None is <class 'NoneType'>\n"
     ]
    }
   ],
   "source": [
    "#Don't worry about what class means for now. The data type is shortened and within apostrophes.\n",
    "print(\"The data type of 1 is\",type(1))\n",
    "print(\"The data type of 1. is\",type(1.))\n",
    "print(\"The data type of -3E2 is\",type(-3E2))\n",
    "print(\"The data type of 'This is a string.' is\",type('This is a string.'))\n",
    "print(\"The data type of 'True':\",type('True'), \"is not the same as the data type of True:\", type(True))\n",
    "print(\"The data type of None is\",type(None))"
   ]
  },
  {
   "cell_type": "markdown",
   "metadata": {},
   "source": [
    "<a id=\"convert\"></a>\n",
    "## Converting between basic data types using `int()`, `float()`, `str()` and `bool()` functions; the Value error"
   ]
  },
  {
   "cell_type": "markdown",
   "metadata": {},
   "source": [
    "It is sometimes convenient to transform a value from one data type to another. These conversions can be achieved with the functions `int()`, `float()`, `str()` and `bool()`."
   ]
  },
  {
   "cell_type": "markdown",
   "metadata": {},
   "source": [
    "The `int()` function converts its argument into an integer. The decimal part of floats is **removed**."
   ]
  },
  {
   "cell_type": "code",
   "execution_count": 17,
   "metadata": {},
   "outputs": [
    {
     "name": "stdout",
     "output_type": "stream",
     "text": [
      "The result of int(\"4\") is 4 and the data type is <class 'int'>\n",
      "The result of int(2.8) is 2 and the data type is <class 'int'>\n",
      "The result of int(True) is 1 and the data type is <class 'int'>\n"
     ]
    }
   ],
   "source": [
    "print(\"The result of int(\\\"4\\\") is\" ,int(\"4\") ,\"and the data type is\",type(int(\"4\")))\n",
    "print(\"The result of int(2.8) is\" ,int(2.8) ,\"and the data type is\",type(int(2.8)))\n",
    "print(\"The result of int(True) is\" ,int(True) ,\"and the data type is\",type(int(True)))"
   ]
  },
  {
   "cell_type": "markdown",
   "metadata": {},
   "source": [
    "Some values are not suitable to be converted into an integer and a value error is returned if `int()` is used."
   ]
  },
  {
   "cell_type": "code",
   "execution_count": 20,
   "metadata": {},
   "outputs": [
    {
     "ename": "ValueError",
     "evalue": "invalid literal for int() with base 10: 'This is not an integer!'",
     "output_type": "error",
     "traceback": [
      "\u001b[0;31m---------------------------------------------------------------------------\u001b[0m",
      "\u001b[0;31mValueError\u001b[0m                                Traceback (most recent call last)",
      "\u001b[0;32m<ipython-input-20-87b2d044dffc>\u001b[0m in \u001b[0;36m<module>\u001b[0;34m\u001b[0m\n\u001b[0;32m----> 1\u001b[0;31m \u001b[0mprint\u001b[0m\u001b[0;34m(\u001b[0m\u001b[0mint\u001b[0m\u001b[0;34m(\u001b[0m\u001b[0;34m\"This is not an integer!\"\u001b[0m\u001b[0;34m)\u001b[0m\u001b[0;34m)\u001b[0m\u001b[0;34m\u001b[0m\u001b[0;34m\u001b[0m\u001b[0m\n\u001b[0m",
      "\u001b[0;31mValueError\u001b[0m: invalid literal for int() with base 10: 'This is not an integer!'"
     ]
    }
   ],
   "source": [
    "print(int(\"This is not an integer!\"))"
   ]
  },
  {
   "cell_type": "markdown",
   "metadata": {},
   "source": [
    "The `float()` function converts its argument into a float."
   ]
  },
  {
   "cell_type": "code",
   "execution_count": 20,
   "metadata": {},
   "outputs": [
    {
     "name": "stdout",
     "output_type": "stream",
     "text": [
      "The the result of float(\"4\") is 4.0 and the data type is <class 'float'>\n",
      "The the result of float(2) is 2.0 and the data type is <class 'float'>\n",
      "The the result of float(\"3E4\") is 30000.0 and the data type is <class 'float'>\n",
      "The the result of float(True) is 1.0 and the data type is <class 'float'>\n"
     ]
    }
   ],
   "source": [
    "print(\"The result of float(\\\"4\\\") is\" ,float(\"4\") ,\"and the data type is\",type(float(\"4\")))\n",
    "print(\"The result of float(2) is\" ,float(2) ,\"and the data type is\",type(float(2)))\n",
    "print(\"The result of float(\\\"3E4\\\") is\" ,float(\"3E4\") ,\"and the data type is\",type(float(\"3E4\")))\n",
    "print(\"The result of float(True) is\" ,float(True) ,\"and the data type is\",type(float(True)))"
   ]
  },
  {
   "cell_type": "code",
   "execution_count": 21,
   "metadata": {},
   "outputs": [
    {
     "ename": "SyntaxError",
     "evalue": "invalid syntax (<ipython-input-21-a0505c4e6f22>, line 1)",
     "output_type": "error",
     "traceback": [
      "\u001b[0;36m  File \u001b[0;32m\"<ipython-input-21-a0505c4e6f22>\"\u001b[0;36m, line \u001b[0;32m1\u001b[0m\n\u001b[0;31m    As with `int(1)`, `float()` returns an error if it cannot convert the argument into a float.\u001b[0m\n\u001b[0m          ^\u001b[0m\n\u001b[0;31mSyntaxError\u001b[0m\u001b[0;31m:\u001b[0m invalid syntax\n"
     ]
    }
   ],
   "source": [
    "As with `int(1)`, `float()` returns an error if it cannot convert the argument into a float."
   ]
  },
  {
   "cell_type": "code",
   "execution_count": 13,
   "metadata": {},
   "outputs": [
    {
     "ename": "ValueError",
     "evalue": "could not convert string to float: 'This is not a float!'",
     "output_type": "error",
     "traceback": [
      "\u001b[1;31m---------------------------------------------------------------------------\u001b[0m",
      "\u001b[1;31mValueError\u001b[0m                                Traceback (most recent call last)",
      "\u001b[1;32m<ipython-input-13-13d1a9209801>\u001b[0m in \u001b[0;36m<module>\u001b[1;34m\u001b[0m\n\u001b[1;32m----> 1\u001b[1;33m \u001b[0mprint\u001b[0m\u001b[1;33m(\u001b[0m\u001b[0mfloat\u001b[0m\u001b[1;33m(\u001b[0m\u001b[1;34m\"This is not a float!\"\u001b[0m\u001b[1;33m)\u001b[0m\u001b[1;33m)\u001b[0m\u001b[1;33m\u001b[0m\u001b[1;33m\u001b[0m\u001b[0m\n\u001b[0m",
      "\u001b[1;31mValueError\u001b[0m: could not convert string to float: 'This is not a float!'"
     ]
    }
   ],
   "source": [
    "print(float(\"This is not a float!\"))"
   ]
  },
  {
   "cell_type": "markdown",
   "metadata": {},
   "source": [
    "The `str()` function converts its argument into a string. Contrary to `int()` and `float()`, `str()` can convert any of the discussed data types into strings."
   ]
  },
  {
   "cell_type": "code",
   "execution_count": 2,
   "metadata": {},
   "outputs": [
    {
     "name": "stdout",
     "output_type": "stream",
     "text": [
      "The result of str(\"4\") is 4 and the data type is <class 'str'>\n",
      "The result of str(2.3) is 2.3 and the data type is <class 'str'>\n",
      "The result of str(\"3E4\") is 3E4 and the data type is <class 'str'>\n",
      "The result of str(True) is True and the data type is <class 'str'>\n"
     ]
    }
   ],
   "source": [
    "print(\"The result of str(\\\"4\\\") is\" ,str(\"4\") ,\"and the data type is\",type(str(\"4\")))\n",
    "print(\"The result of str(2.3) is\" ,str(2.3) ,\"and the data type is\",type(str(2.3)))\n",
    "print(\"The result of str(\\\"3E4\\\") is\" ,str(\"3E4\") ,\"and the data type is\",type(str(\"3E4\")))\n",
    "print(\"The result of str(True) is\" ,str(True) ,\"and the data type is\",type(str(True)))"
   ]
  },
  {
   "cell_type": "markdown",
   "metadata": {},
   "source": [
    "## Basic arithmetic operations; the ZeroDivision error"
   ]
  },
  {
   "cell_type": "markdown",
   "metadata": {},
   "source": [
    "You can write an arithmetic expression and Python returns the result, just like a calculator!"
   ]
  },
  {
   "cell_type": "code",
   "execution_count": 24,
   "metadata": {},
   "outputs": [
    {
     "name": "stdout",
     "output_type": "stream",
     "text": [
      "4\n"
     ]
    }
   ],
   "source": [
    "print(2 + 2)"
   ]
  },
  {
   "cell_type": "markdown",
   "metadata": {},
   "source": [
    "<img src=\"./media/TomsMindBlown.gif\"/>"
   ]
  },
  {
   "cell_type": "markdown",
   "metadata": {},
   "source": [
    "Some of the operations can can be performed with Python are:\n",
    "- Addition (`+`)\n",
    "- Subtraction (`-`)\n",
    "- Multiplication (`*`)\n",
    "- Division (`/`)\n",
    "- Exponentiation or power (`**`)\n",
    "- Integer division (`//`)\n",
    "- Remainder (`%`)\n",
    "\n",
    "All these operations are binary because they operate over two values at a time. The negative and positive signs are unary because they only operate over a single value."
   ]
  },
  {
   "cell_type": "markdown",
   "metadata": {},
   "source": [
    "The plus sign `+` adds up the value of two numbers."
   ]
  },
  {
   "cell_type": "code",
   "execution_count": 23,
   "metadata": {},
   "outputs": [
    {
     "name": "stdout",
     "output_type": "stream",
     "text": [
      "5\n",
      "5.0\n",
      "5.0\n",
      "5.0\n"
     ]
    }
   ],
   "source": [
    "print(2 + 3)\n",
    "print(2. + 3)\n",
    "print(2 + 3.)\n",
    "print(2. + 3.)"
   ]
  },
  {
   "cell_type": "markdown",
   "metadata": {},
   "source": [
    "Pay attention to the data type of the input numbers and the result of the addition. When adding **two integers** the result is **an integer**. If **at least one of the numbers is a float**, then the result is **a float**. We'll call this the *integer vs float* rule.\n",
    "\n",
    "It is good practice to [leave spaces around binary operators](https://www.python.org/dev/peps/pep-0008/#other-recommendations) to improve the readability of the code."
   ]
  },
  {
   "cell_type": "markdown",
   "metadata": {},
   "source": [
    "The minus sign `-` can be used to subtract two numbers. The *integer vs float* also applies."
   ]
  },
  {
   "cell_type": "code",
   "execution_count": 22,
   "metadata": {},
   "outputs": [
    {
     "name": "stdout",
     "output_type": "stream",
     "text": [
      "-1\n",
      "-1.0\n",
      "-1.0\n",
      "-1.0\n"
     ]
    }
   ],
   "source": [
    "print(2 - 3)\n",
    "print(2. - 3)\n",
    "print(2 - 3.)\n",
    "print(2. - 3.)"
   ]
  },
  {
   "cell_type": "markdown",
   "metadata": {},
   "source": [
    "It is possible to substract a negative number."
   ]
  },
  {
   "cell_type": "code",
   "execution_count": 29,
   "metadata": {},
   "outputs": [
    {
     "name": "stdout",
     "output_type": "stream",
     "text": [
      "7\n"
     ]
    }
   ],
   "source": [
    "print(2 - -5)"
   ]
  },
  {
   "cell_type": "markdown",
   "metadata": {},
   "source": [
    "The asterisk sign `*` is used to multiply two numbers. The *integer vs float* also applies."
   ]
  },
  {
   "cell_type": "code",
   "execution_count": 30,
   "metadata": {},
   "outputs": [
    {
     "name": "stdout",
     "output_type": "stream",
     "text": [
      "6\n",
      "6.0\n",
      "6.0\n",
      "6.0\n"
     ]
    }
   ],
   "source": [
    "print(2 * 3)\n",
    "print(2. * 3)\n",
    "print(2 * 3.)\n",
    "print(2. * 3.)"
   ]
  },
  {
   "cell_type": "markdown",
   "metadata": {},
   "source": [
    "The slash sign `/` is used to divide a number by another."
   ]
  },
  {
   "cell_type": "code",
   "execution_count": 31,
   "metadata": {},
   "outputs": [
    {
     "name": "stdout",
     "output_type": "stream",
     "text": [
      "0.6666666666666666\n",
      "0.6666666666666666\n",
      "0.6666666666666666\n",
      "0.6666666666666666\n"
     ]
    }
   ],
   "source": [
    "print(2 / 3)\n",
    "print(2. / 3)\n",
    "print(2 / 3.)\n",
    "print(2. / 3.)"
   ]
  },
  {
   "cell_type": "markdown",
   "metadata": {},
   "source": [
    "Here the previous *integer vs float* does **not** apply. The result of a division is **always a float** even if both numbers are integers and the result could be represented as an integer."
   ]
  },
  {
   "cell_type": "code",
   "execution_count": 32,
   "metadata": {},
   "outputs": [
    {
     "name": "stdout",
     "output_type": "stream",
     "text": [
      "2.0\n"
     ]
    }
   ],
   "source": [
    "print(12 / 6)"
   ]
  },
  {
   "cell_type": "markdown",
   "metadata": {},
   "source": [
    "The double asterisk sign `**` is used to raise a number to the power of another (exponentiation). The *integer vs float* applies."
   ]
  },
  {
   "cell_type": "code",
   "execution_count": 35,
   "metadata": {},
   "outputs": [
    {
     "name": "stdout",
     "output_type": "stream",
     "text": [
      "8\n",
      "8.0\n",
      "8.0\n",
      "8.0\n"
     ]
    }
   ],
   "source": [
    "print(2 ** 3)\n",
    "print(2. ** 3)\n",
    "print(2 ** 3.)\n",
    "print(2. ** 3.)"
   ]
  },
  {
   "cell_type": "markdown",
   "metadata": {},
   "source": [
    "The double slash sign `//` is used to perform an integer division of a number by another. It has two main differences from a division:\n",
    "- The result has no fractional part. It is **rounded to the nearest integer** value that is **less** than the not rounded result.\n",
    "- The *integer vs float* rule applies."
   ]
  },
  {
   "cell_type": "code",
   "execution_count": 37,
   "metadata": {},
   "outputs": [
    {
     "name": "stdout",
     "output_type": "stream",
     "text": [
      "1\n",
      "1.0\n",
      "1.0\n",
      "1.0\n"
     ]
    }
   ],
   "source": [
    "print(6 // 4)\n",
    "print(6. // 4)\n",
    "print(6 // 4.)\n",
    "print(6. // 4.)"
   ]
  },
  {
   "cell_type": "markdown",
   "metadata": {},
   "source": [
    "If the division operator was used, the result would be `1.5`."
   ]
  },
  {
   "cell_type": "code",
   "execution_count": 38,
   "metadata": {},
   "outputs": [
    {
     "name": "stdout",
     "output_type": "stream",
     "text": [
      "1.5\n"
     ]
    }
   ],
   "source": [
    "print(6 / 4)"
   ]
  },
  {
   "cell_type": "markdown",
   "metadata": {},
   "source": [
    "Note that for negative numbers the result is still rounded to the nearest **lesser** integer."
   ]
  },
  {
   "cell_type": "code",
   "execution_count": 3,
   "metadata": {},
   "outputs": [
    {
     "name": "stdout",
     "output_type": "stream",
     "text": [
      "-2\n",
      "-2.0\n"
     ]
    }
   ],
   "source": [
    "#One might think that the result would be -1 or -1.0.\n",
    "print(-6 // 4) \n",
    "print(6 // -4.)"
   ]
  },
  {
   "cell_type": "markdown",
   "metadata": {},
   "source": [
    "The percent sign `%` is used to calculate the value left over after an integer division (remainder). The *integer vs float* applies."
   ]
  },
  {
   "cell_type": "code",
   "execution_count": 47,
   "metadata": {},
   "outputs": [
    {
     "name": "stdout",
     "output_type": "stream",
     "text": [
      "2\n",
      "2.0\n",
      "2.0\n",
      "2.0\n"
     ]
    }
   ],
   "source": [
    "print(14 % 3)\n",
    "print(14. % 3)\n",
    "print(14 % 3.)\n",
    "print(14. % 3.)"
   ]
  },
  {
   "cell_type": "markdown",
   "metadata": {},
   "source": [
    "This result was obtained by following the sequence of operations:\n",
    "- Perform an integer division `14 // 3 = 4`\n",
    "- Multiply the result by the divisor `4 * 3 = 12`\n",
    "- Substract the result from the dividend `14 - 12 = 2` "
   ]
  },
  {
   "cell_type": "markdown",
   "metadata": {},
   "source": [
    "Performing a division, integer division or finding the remainder of a division by 0 results in the *ZeroDivisionError* and should be avoided."
   ]
  },
  {
   "cell_type": "code",
   "execution_count": 52,
   "metadata": {},
   "outputs": [
    {
     "ename": "ZeroDivisionError",
     "evalue": "integer division or modulo by zero",
     "output_type": "error",
     "traceback": [
      "\u001b[1;31m---------------------------------------------------------------------------\u001b[0m",
      "\u001b[1;31mZeroDivisionError\u001b[0m                         Traceback (most recent call last)",
      "\u001b[1;32m<ipython-input-52-2a8f76c16bd3>\u001b[0m in \u001b[0;36m<module>\u001b[1;34m\u001b[0m\n\u001b[1;32m----> 1\u001b[1;33m \u001b[0mprint\u001b[0m\u001b[1;33m(\u001b[0m\u001b[1;36m2\u001b[0m \u001b[1;33m//\u001b[0m \u001b[1;36m0\u001b[0m\u001b[1;33m)\u001b[0m\u001b[1;33m\u001b[0m\u001b[1;33m\u001b[0m\u001b[0m\n\u001b[0m",
      "\u001b[1;31mZeroDivisionError\u001b[0m: integer division or modulo by zero"
     ]
    }
   ],
   "source": [
    "print(2 // 0)"
   ]
  },
  {
   "cell_type": "markdown",
   "metadata": {},
   "source": [
    "## Operator Precedence"
   ]
  },
  {
   "cell_type": "markdown",
   "metadata": {},
   "source": [
    "We have dealt with each operator in isolation but what happens when we use them in the same expression? In expressions with multiple operations it is vital to take into account the priority of each operation. Do you remember that multiplications precede additions? The order in which operations are performed is called *Operator Precedence* and can be tought as a hierarchy of priorities.\n",
    "\n",
    "- Operations with **higher** priority are performed **before** operations with **lower** priority. \n",
    "- When two operations have the same priority it is the **binding** that determines which is executed first. Most operations in Python have **left-sided binding**. This means that the operations are performed **left** to **right**.\n",
    "\n",
    "The *Operator Precendence* table for arithmetic operators is:"
   ]
  },
  {
   "cell_type": "markdown",
   "metadata": {},
   "source": [
    "<img src=\"./media/precedence_small.jpg\"/>"
   ]
  },
  {
   "cell_type": "markdown",
   "metadata": {},
   "source": [
    "There are additional operations that we'll explore on SLU03 - Flow Control.\n",
    "For more information and the complete *Operator Precedence* list check [here](https://docs.python.org/3/reference/expressions.html#operator-precedence)."
   ]
  },
  {
   "cell_type": "markdown",
   "metadata": {},
   "source": [
    "Consider the examples:"
   ]
  },
  {
   "cell_type": "code",
   "execution_count": 8,
   "metadata": {},
   "outputs": [
    {
     "name": "stdout",
     "output_type": "stream",
     "text": [
      "8\n"
     ]
    }
   ],
   "source": [
    "#The first operation performed: 2 * 3 = 6\n",
    "#The second operation performed: 2 + 6 = 8\n",
    "print(2 + 2 * 3)"
   ]
  },
  {
   "cell_type": "code",
   "execution_count": 59,
   "metadata": {},
   "outputs": [
    {
     "name": "stdout",
     "output_type": "stream",
     "text": [
      "2\n",
      "12\n"
     ]
    }
   ],
   "source": [
    "#First operation performed: 12 // 3 = 4\n",
    "#Second operation performed: 4 // 2 = 2\n",
    "#Left-sided binding\n",
    "print(12 // 3 // 2)\n",
    "\n",
    "#Introducing parenthesis (highest priority) to force the right operation to be performed first.\n",
    "#First operation performed: 3 // 2 = 1\n",
    "#Second operation performed: 12 // 1 = 12\n",
    "print(12 // (3 // 2))"
   ]
  },
  {
   "cell_type": "code",
   "execution_count": 4,
   "metadata": {},
   "outputs": [
    {
     "name": "stdout",
     "output_type": "stream",
     "text": [
      "0\n",
      "2\n"
     ]
    }
   ],
   "source": [
    "#// and * have the same priority and are both left-sided binding.\n",
    "#The first operation performed: 2 // 3 = 0\n",
    "#The second operation performed: 0 * 3 = 0\n",
    "print(2 // 3 * 3)\n",
    "\n",
    "#The first operation performed: 3 * 2 = 6\n",
    "#The second operation performed: 6 // 3 = 2\n",
    "print(3 * 2 // 3 )"
   ]
  },
  {
   "cell_type": "markdown",
   "metadata": {},
   "source": [
    "As you can see, the integer division has **left-sided binding** and performs operations from left to right. Changing the order of execution of the operations with parenthesis will (in 99.(9)% of the cases) produce **different results**. \n",
    "\n",
    "TIP: If your calculations are returning the wrong results make sure that the order of the operations is defined as wanted and the parenthesis are well placed."
   ]
  },
  {
   "cell_type": "markdown",
   "metadata": {},
   "source": [
    "One operation that has a **right-sided binding** is the exponentiation."
   ]
  },
  {
   "cell_type": "code",
   "execution_count": 62,
   "metadata": {},
   "outputs": [
    {
     "name": "stdout",
     "output_type": "stream",
     "text": [
      "256\n",
      "64\n"
     ]
    }
   ],
   "source": [
    "#First operation performed: 2 ** 3 = 8\n",
    "#Second operation performed: 2 ** 8 = 256\n",
    "#Right-sided binding\n",
    "print(2 ** 2 ** 3)\n",
    "\n",
    "#Introducing parenthesis (highest priority) to force the left operation to be performed first.\n",
    "#First operation performed: 2 ** 2 = 4\n",
    "#Second operation performed: 4 ** 3 = 64\n",
    "print((2 ** 2) ** 3)"
   ]
  },
  {
   "cell_type": "markdown",
   "metadata": {},
   "source": [
    "NOTE: There is an exception for the exponentiation where the positive and negative signs have higher priority if on the right side of `**`."
   ]
  },
  {
   "cell_type": "code",
   "execution_count": 2,
   "metadata": {},
   "outputs": [
    {
     "name": "stdout",
     "output_type": "stream",
     "text": [
      "-4\n",
      "-4\n",
      "0.25\n",
      "0.25\n"
     ]
    }
   ],
   "source": [
    "#Here the exponentiation has higher priority than the negative sign, so it is performed first.\n",
    "print(-2 ** 2)\n",
    "#Equivalent to\n",
    "print(- (2 ** 2))\n",
    "\n",
    "#Here the negative sign is on the right side and has higher priority than the exponentiation, so it is performed first.\n",
    "print(2 ** -2)\n",
    "#Equivalent to \n",
    "print(2 ** (-2))"
   ]
  },
  {
   "cell_type": "markdown",
   "metadata": {},
   "source": [
    "## Strings concatenation and formatting"
   ]
  },
  {
   "cell_type": "markdown",
   "metadata": {},
   "source": [
    "Operations are not limited to numbers. It is possible to manipulate text with Python.\n",
    "\n",
    "One such operation is called *string concatenation*. String concatenation combines two strings and merges them into one string. To concatenate two strings in Python the plus sign `+` is used."
   ]
  },
  {
   "cell_type": "code",
   "execution_count": 11,
   "metadata": {},
   "outputs": [
    {
     "name": "stdout",
     "output_type": "stream",
     "text": [
      "Hello there.\n"
     ]
    }
   ],
   "source": [
    "#The string \"Hello \" is merged with the string \"there.\"\n",
    "print(\"Hello \" + \"there.\")"
   ]
  },
  {
   "cell_type": "code",
   "execution_count": 12,
   "metadata": {},
   "outputs": [
    {
     "name": "stdout",
     "output_type": "stream",
     "text": [
      "You can merge as many strings in row as you like.\n"
     ]
    }
   ],
   "source": [
    "print(\"You \" + \"can \" + \"merge \" + \"as \" + \"many \" + \"strings \" + \"in \" + \"a \" + \"row \" + \"as \" + \"you \"+ \"like.\")"
   ]
  },
  {
   "cell_type": "code",
   "execution_count": 16,
   "metadata": {},
   "outputs": [
    {
     "name": "stdout",
     "output_type": "stream",
     "text": [
      "The order of the characters is preserved in the resulting string.\n",
      "String 1 String 2 String 3\n"
     ]
    }
   ],
   "source": [
    "print(\"The order of the characters \" + \"is preserved in the resulting string.\")\n",
    "print(\"String 1 \" + \"String 2 \" + \"String 3\")"
   ]
  },
  {
   "cell_type": "markdown",
   "metadata": {},
   "source": [
    "You can repeat the same string multiple times with asterisk sign `*` and an integer number."
   ]
  },
  {
   "cell_type": "code",
   "execution_count": 4,
   "metadata": {},
   "outputs": [
    {
     "name": "stdout",
     "output_type": "stream",
     "text": [
      "Multiplying one integer with a string produces a string that is the concatenation of the string repeated by the value of that integer.\n",
      "For example: 4 * \"ABC\" results in ABCABCABCABC\n"
     ]
    }
   ],
   "source": [
    "print(\"\"\"Multiplying one integer with a string produces a string that is the concatenation \\\n",
    "of the string repeated by the value of that integer.\n",
    "For example: 4 * \\\"ABC\\\" results in \"\"\" + 4 * \"ABC\")"
   ]
  },
  {
   "cell_type": "markdown",
   "metadata": {},
   "source": [
    "#### String Formatting"
   ]
  },
  {
   "cell_type": "markdown",
   "metadata": {},
   "source": [
    "With the knowledge that we got so far, we can add values to a string by calling the function `str()` on the values and concatenate the result into the string."
   ]
  },
  {
   "cell_type": "code",
   "execution_count": 6,
   "metadata": {},
   "outputs": [
    {
     "name": "stdout",
     "output_type": "stream",
     "text": [
      "There are 123 boxes of sweets in a store. There are 25 sweets in each box.\n",
      "How many sweets are there in the store? 3075\n"
     ]
    }
   ],
   "source": [
    "print(\"There are \" + str(123) + \" boxes of sweets in a store. There are \" + str(25)\n",
    "      + \" sweets in each box.\\nHow many sweets are there in the store? \" + str(123 * 25))"
   ]
  },
  {
   "cell_type": "markdown",
   "metadata": {},
   "source": [
    "It's quite cumbersome to have to split the string into pieces and concatenate the converted values. There are [several methods to simplify this process](https://www.python.org/dev/peps/pep-3101/#format-strings). We will explore the two most used:"
   ]
  },
  {
   "cell_type": "markdown",
   "metadata": {},
   "source": [
    "1. The `.format()` method. Strings have a method `.format()` where the arguments are \"inserted\" inside the string. You can use positional arguments or use keyword arguments. I recommend going [here](https://docs.python.org/3/library/string.html#formatstrings) for additional examples of the capabilities of `.format()`."
   ]
  },
  {
   "cell_type": "code",
   "execution_count": 8,
   "metadata": {},
   "outputs": [
    {
     "name": "stdout",
     "output_type": "stream",
     "text": [
      "There are 123 boxes of sweets in a store. There are 25 sweets in each box.\n",
      "How many sweets are there in the store? 3075\n"
     ]
    }
   ],
   "source": [
    "print(\"\"\"There are {0} boxes of sweets in a store. There are {1} \\\n",
    "sweets in each box.\\nHow many sweets are there in the store? {result}\"\"\".format(123, 25, result=123 * 25))"
   ]
  },
  {
   "cell_type": "markdown",
   "metadata": {},
   "source": [
    "2. Using [formatted strings](https://www.python.org/dev/peps/pep-0498/) aka f-strings. f-strings are strings that are prefaced with the letter `f`. In these strings expressions can be introduced using curly braces `{}`. You can see that the expressions have a different color from the string. The notebook takes into account that it is a f-string and automatically shows every expression as code, improving readability. This does not happen with `.format()`."
   ]
  },
  {
   "cell_type": "code",
   "execution_count": 27,
   "metadata": {},
   "outputs": [
    {
     "name": "stdout",
     "output_type": "stream",
     "text": [
      " There are {123} boxes of sweets in a store. There are {25} sweets in each box. How many sweets are in the store? {123 * 25}\n"
     ]
    }
   ],
   "source": [
    "print(\"\"\" There are {123} boxes of sweets in a store. There are {25} \\\n",
    "sweets in each box. How many sweets are in the store? {123 * 25}\"\"\")"
   ]
  },
  {
   "cell_type": "markdown",
   "metadata": {},
   "source": [
    "For each case, you should use the method that is simpler to read."
   ]
  },
  {
   "cell_type": "markdown",
   "metadata": {},
   "source": [
    "## Introduction to variables; the Name error"
   ]
  },
  {
   "cell_type": "markdown",
   "metadata": {},
   "source": [
    "Of the operations that we performed in this notebook, we cannot use the results further. The values were calculated but were not stored for later usage. *Variables* are **containers** that allow to **store the values of calculations** and use these values in subsequent operations. A variable is defined by its **name** and its **value**.\n",
    "\n",
    "To create a variable the programmer must first name it. There are some rules to naming a variable that have to be followed:\n",
    "\n",
    "- the name of the variable can **only** be composed of **upper- and lower-case letters**, **digits** and the underscore character **_**. The characters are not required to be Latin letters .\n",
    "- the name has to **start with a letter**.\n",
    "- the **underscore is considered a letter**.\n",
    "- the upper- and lower-case letters are considered to be different. `POTATOES` and `potatoes` are two distinct variables.\n",
    "- the name cannot be one of Python's reserved keywords or [built-in functions](https://docs.python.org/3/library/functions.html#built-in-functions). This rule can \"technically\" be broken but **shouldn't**. You can, for instance, replace the `print()` with a variable called `print`. Python forgets what `print()` does and all examples in the notebook start producing errors. You'll need to restart the Kernel (top of the notebook: Kernel > Restart) for the `print()` function to be available again.\n",
    "\n",
    "The reserved keywords are names that have specific purposes in the Python language and **should not be used for naming**. They can be accessed with `help('keywords')`.\n",
    "\n",
    "There are several [naming conventions](https://www.python.org/dev/peps/pep-0008/#naming-conventions) that you can follow to help you name variables."
   ]
  },
  {
   "cell_type": "code",
   "execution_count": 28,
   "metadata": {},
   "outputs": [
    {
     "name": "stdout",
     "output_type": "stream",
     "text": [
      "The \"import\" statement\n",
      "**********************\n",
      "\n",
      "   import_stmt     ::= \"import\" module [\"as\" identifier] (\",\" module [\"as\" identifier])*\n",
      "                   | \"from\" relative_module \"import\" identifier [\"as\" identifier]\n",
      "                   (\",\" identifier [\"as\" identifier])*\n",
      "                   | \"from\" relative_module \"import\" \"(\" identifier [\"as\" identifier]\n",
      "                   (\",\" identifier [\"as\" identifier])* [\",\"] \")\"\n",
      "                   | \"from\" module \"import\" \"*\"\n",
      "   module          ::= (identifier \".\")* identifier\n",
      "   relative_module ::= \".\"* module | \".\"+\n",
      "\n",
      "The basic import statement (no \"from\" clause) is executed in two\n",
      "steps:\n",
      "\n",
      "1. find a module, loading and initializing it if necessary\n",
      "\n",
      "2. define a name or names in the local namespace for the scope\n",
      "   where the \"import\" statement occurs.\n",
      "\n",
      "When the statement contains multiple clauses (separated by commas) the\n",
      "two steps are carried out separately for each clause, just as though\n",
      "the clauses had been separated out into individual import statements.\n",
      "\n",
      "The details of the first step, finding and loading modules are\n",
      "described in greater detail in the section on the import system, which\n",
      "also describes the various types of packages and modules that can be\n",
      "imported, as well as all the hooks that can be used to customize the\n",
      "import system. Note that failures in this step may indicate either\n",
      "that the module could not be located, *or* that an error occurred\n",
      "while initializing the module, which includes execution of the\n",
      "module’s code.\n",
      "\n",
      "If the requested module is retrieved successfully, it will be made\n",
      "available in the local namespace in one of three ways:\n",
      "\n",
      "* If the module name is followed by \"as\", then the name following\n",
      "  \"as\" is bound directly to the imported module.\n",
      "\n",
      "* If no other name is specified, and the module being imported is a\n",
      "  top level module, the module’s name is bound in the local namespace\n",
      "  as a reference to the imported module\n",
      "\n",
      "* If the module being imported is *not* a top level module, then the\n",
      "  name of the top level package that contains the module is bound in\n",
      "  the local namespace as a reference to the top level package. The\n",
      "  imported module must be accessed using its full qualified name\n",
      "  rather than directly\n",
      "\n",
      "The \"from\" form uses a slightly more complex process:\n",
      "\n",
      "1. find the module specified in the \"from\" clause, loading and\n",
      "   initializing it if necessary;\n",
      "\n",
      "2. for each of the identifiers specified in the \"import\" clauses:\n",
      "\n",
      "   1. check if the imported module has an attribute by that name\n",
      "\n",
      "   2. if not, attempt to import a submodule with that name and then\n",
      "      check the imported module again for that attribute\n",
      "\n",
      "   3. if the attribute is not found, \"ImportError\" is raised.\n",
      "\n",
      "   4. otherwise, a reference to that value is stored in the local\n",
      "      namespace, using the name in the \"as\" clause if it is present,\n",
      "      otherwise using the attribute name\n",
      "\n",
      "Examples:\n",
      "\n",
      "   import foo                 # foo imported and bound locally\n",
      "   import foo.bar.baz         # foo.bar.baz imported, foo bound locally\n",
      "   import foo.bar.baz as fbb  # foo.bar.baz imported and bound as fbb\n",
      "   from foo.bar import baz    # foo.bar.baz imported and bound as baz\n",
      "   from foo import attr       # foo imported and foo.attr bound as attr\n",
      "\n",
      "If the list of identifiers is replaced by a star (\"'*'\"), all public\n",
      "names defined in the module are bound in the local namespace for the\n",
      "scope where the \"import\" statement occurs.\n",
      "\n",
      "The *public names* defined by a module are determined by checking the\n",
      "module’s namespace for a variable named \"__all__\"; if defined, it must\n",
      "be a sequence of strings which are names defined or imported by that\n",
      "module.  The names given in \"__all__\" are all considered public and\n",
      "are required to exist.  If \"__all__\" is not defined, the set of public\n",
      "names includes all names found in the module’s namespace which do not\n",
      "begin with an underscore character (\"'_'\").  \"__all__\" should contain\n",
      "the entire public API. It is intended to avoid accidentally exporting\n",
      "items that are not part of the API (such as library modules which were\n",
      "imported and used within the module).\n",
      "\n",
      "The wild card form of import — \"from module import *\" — is only\n",
      "allowed at the module level.  Attempting to use it in class or\n",
      "function definitions will raise a \"SyntaxError\".\n",
      "\n",
      "When specifying what module to import you do not have to specify the\n",
      "absolute name of the module. When a module or package is contained\n",
      "within another package it is possible to make a relative import within\n",
      "the same top package without having to mention the package name. By\n",
      "using leading dots in the specified module or package after \"from\" you\n",
      "can specify how high to traverse up the current package hierarchy\n",
      "without specifying exact names. One leading dot means the current\n",
      "package where the module making the import exists. Two dots means up\n",
      "one package level. Three dots is up two levels, etc. So if you execute\n",
      "\"from . import mod\" from a module in the \"pkg\" package then you will\n",
      "end up importing \"pkg.mod\". If you execute \"from ..subpkg2 import mod\"\n",
      "from within \"pkg.subpkg1\" you will import \"pkg.subpkg2.mod\". The\n",
      "specification for relative imports is contained within **PEP 328**.\n",
      "\n",
      "\"importlib.import_module()\" is provided to support applications that\n",
      "determine dynamically the modules to be loaded.\n",
      "\n",
      "\n",
      "Future statements\n",
      "=================\n",
      "\n",
      "A *future statement* is a directive to the compiler that a particular\n",
      "module should be compiled using syntax or semantics that will be\n",
      "available in a specified future release of Python where the feature\n",
      "becomes standard.\n",
      "\n",
      "The future statement is intended to ease migration to future versions\n",
      "of Python that introduce incompatible changes to the language.  It\n",
      "allows use of the new features on a per-module basis before the\n",
      "release in which the feature becomes standard.\n",
      "\n",
      "   future_stmt ::= \"from\" \"__future__\" \"import\" feature [\"as\" identifier]\n",
      "                   (\",\" feature [\"as\" identifier])*\n",
      "                   | \"from\" \"__future__\" \"import\" \"(\" feature [\"as\" identifier]\n",
      "                   (\",\" feature [\"as\" identifier])* [\",\"] \")\"\n",
      "   feature     ::= identifier\n",
      "\n",
      "A future statement must appear near the top of the module.  The only\n",
      "lines that can appear before a future statement are:\n",
      "\n",
      "* the module docstring (if any),\n",
      "\n",
      "* comments,\n",
      "\n",
      "* blank lines, and\n",
      "\n",
      "* other future statements.\n",
      "\n",
      "The features recognized by Python 3.0 are \"absolute_import\",\n",
      "\"division\", \"generators\", \"unicode_literals\", \"print_function\",\n",
      "\"nested_scopes\" and \"with_statement\".  They are all redundant because\n",
      "they are always enabled, and only kept for backwards compatibility.\n",
      "\n",
      "A future statement is recognized and treated specially at compile\n",
      "time: Changes to the semantics of core constructs are often\n",
      "implemented by generating different code.  It may even be the case\n",
      "that a new feature introduces new incompatible syntax (such as a new\n",
      "reserved word), in which case the compiler may need to parse the\n",
      "module differently.  Such decisions cannot be pushed off until\n",
      "runtime.\n",
      "\n",
      "For any given release, the compiler knows which feature names have\n",
      "been defined, and raises a compile-time error if a future statement\n",
      "contains a feature not known to it.\n",
      "\n",
      "The direct runtime semantics are the same as for any import statement:\n",
      "there is a standard module \"__future__\", described later, and it will\n",
      "be imported in the usual way at the time the future statement is\n",
      "executed.\n",
      "\n",
      "The interesting runtime semantics depend on the specific feature\n",
      "enabled by the future statement.\n",
      "\n",
      "Note that there is nothing special about the statement:\n",
      "\n",
      "   import __future__ [as name]\n",
      "\n",
      "That is not a future statement; it’s an ordinary import statement with\n",
      "no special semantics or syntax restrictions.\n",
      "\n",
      "Code compiled by calls to the built-in functions \"exec()\" and\n",
      "\"compile()\" that occur in a module \"M\" containing a future statement\n",
      "will, by default, use the new syntax or semantics associated with the\n",
      "future statement.  This can be controlled by optional arguments to\n",
      "\"compile()\" — see the documentation of that function for details.\n",
      "\n",
      "A future statement typed at an interactive interpreter prompt will\n",
      "take effect for the rest of the interpreter session.  If an\n",
      "interpreter is started with the \"-i\" option, is passed a script name\n",
      "to execute, and the script includes a future statement, it will be in\n",
      "effect in the interactive session started after the script is\n",
      "executed.\n",
      "\n",
      "See also:\n",
      "\n",
      "  **PEP 236** - Back to the __future__\n",
      "     The original proposal for the __future__ mechanism.\n",
      "\n",
      "Related help topics: MODULES\n",
      "\n"
     ]
    }
   ],
   "source": [
    "help('import')"
   ]
  },
  {
   "cell_type": "markdown",
   "metadata": {},
   "source": [
    "Here are some examples of names that can be used for variables:\n",
    "\n",
    "`FirstVariable`\n",
    "\n",
    "`j`\n",
    "\n",
    "`v23`\n",
    "\n",
    "`counter`\n",
    "\n",
    "`index`\n",
    "\n",
    "`An_Extremely_Long_Variable_Name_That_You_Are_Definitely_Never_Going_To_Mispell`\n",
    "\n",
    "`Ovo_da_Páscoa_Abaixo` (use of accented letters)\n",
    "\n",
    "`В_Советской_России_переменные_дают_вам_имя` (use of non latin characters)"
   ]
  },
  {
   "cell_type": "markdown",
   "metadata": {},
   "source": [
    "A variable can store any value of the data types above but also many more that we haven't seen yet. The stored value is called the value of the variable and it can change at any given time. Not only the value can change within the same data type but the data type can also change. For instance, a variable can have an integer value and later a float value.\n",
    "\n",
    "A variable is created when a value is **assigned** to it. If a value is assigned to a variable that does not exist, the variable is created **automatically**.\n",
    "\n",
    "To create a variable write the **name of the variable**, the **equal sign** `=` and then the **value** that you want to put in the variable. We call this process **variable assignment**. The equal sign `=` is **not** treated as *equal to*, but instead assigns the **right value** to the **left variable**."
   ]
  },
  {
   "cell_type": "code",
   "execution_count": 44,
   "metadata": {},
   "outputs": [],
   "source": [
    "variable_name = 3"
   ]
  },
  {
   "cell_type": "markdown",
   "metadata": {},
   "source": [
    "The expression above did not produce an output but created the variable `variable_name` with the integer value `3`. To verify the value of the variable, you can use the `print()` function."
   ]
  },
  {
   "cell_type": "code",
   "execution_count": 45,
   "metadata": {},
   "outputs": [
    {
     "name": "stdout",
     "output_type": "stream",
     "text": [
      "3\n"
     ]
    }
   ],
   "source": [
    "print(variable_name)"
   ]
  },
  {
   "cell_type": "markdown",
   "metadata": {},
   "source": [
    "The value `3` is stored inside `variable_name` and can be used in later calculations and cells. You can use as many variables as needed to perform the intended tasks."
   ]
  },
  {
   "cell_type": "code",
   "execution_count": 47,
   "metadata": {},
   "outputs": [
    {
     "name": "stdout",
     "output_type": "stream",
     "text": [
      "1 2.0 This is a string.\n"
     ]
    }
   ],
   "source": [
    "a = 1\n",
    "b = 2.\n",
    "c = \"This is a string.\"\n",
    "print(a,b,c)"
   ]
  },
  {
   "cell_type": "markdown",
   "metadata": {},
   "source": [
    "You cannot use a variable that was not previously assigned. Doing so results in a *NameError*."
   ]
  },
  {
   "cell_type": "code",
   "execution_count": 48,
   "metadata": {},
   "outputs": [
    {
     "ename": "NameError",
     "evalue": "name 'A' is not defined",
     "output_type": "error",
     "traceback": [
      "\u001b[1;31m---------------------------------------------------------------------------\u001b[0m",
      "\u001b[1;31mNameError\u001b[0m                                 Traceback (most recent call last)",
      "\u001b[1;32m<ipython-input-48-939330b76721>\u001b[0m in \u001b[0;36m<module>\u001b[1;34m\u001b[0m\n\u001b[1;32m----> 1\u001b[1;33m \u001b[0mprint\u001b[0m\u001b[1;33m(\u001b[0m\u001b[0mA\u001b[0m\u001b[1;33m)\u001b[0m\u001b[1;33m\u001b[0m\u001b[1;33m\u001b[0m\u001b[0m\n\u001b[0m",
      "\u001b[1;31mNameError\u001b[0m: name 'A' is not defined"
     ]
    }
   ],
   "source": [
    "print(A)"
   ]
  },
  {
   "cell_type": "markdown",
   "metadata": {},
   "source": [
    "The value of a variable can be changed by assigning a new value to the variable."
   ]
  },
  {
   "cell_type": "code",
   "execution_count": 50,
   "metadata": {},
   "outputs": [
    {
     "name": "stdout",
     "output_type": "stream",
     "text": [
      "2\n"
     ]
    }
   ],
   "source": [
    "a = 2\n",
    "#Variable a had value 1 and now it has value 2.\n",
    "print(a)"
   ]
  },
  {
   "cell_type": "markdown",
   "metadata": {},
   "source": [
    "The right argument of the assignment can be any valid expression that we talked before. The equal sign `=` has lower priority than the above mentioned operators."
   ]
  },
  {
   "cell_type": "code",
   "execution_count": 53,
   "metadata": {},
   "outputs": [
    {
     "name": "stdout",
     "output_type": "stream",
     "text": [
      "First part, second part.\n"
     ]
    }
   ],
   "source": [
    "e = \"First part,\"\n",
    "f = \" second part.\"\n",
    "g = e + f\n",
    "print(g)"
   ]
  },
  {
   "cell_type": "markdown",
   "metadata": {},
   "source": [
    "Sometimes we want to use the same variable on both sides of the `=` operator."
   ]
  },
  {
   "cell_type": "code",
   "execution_count": 54,
   "metadata": {},
   "outputs": [
    {
     "name": "stdout",
     "output_type": "stream",
     "text": [
      "2\n"
     ]
    }
   ],
   "source": [
    "d = 1\n",
    "d = d + 1\n",
    "print(d)"
   ]
  },
  {
   "cell_type": "markdown",
   "metadata": {},
   "source": [
    "This expression can be simplified using **shortcut operators**. Shortcut operators allow to write expression like `variable = variable + expression` as `variable =+ expression`. This is valid for the binary operators that we discussed earlier."
   ]
  },
  {
   "cell_type": "code",
   "execution_count": 57,
   "metadata": {},
   "outputs": [
    {
     "name": "stdout",
     "output_type": "stream",
     "text": [
      "2\n"
     ]
    }
   ],
   "source": [
    "counter = 1\n",
    "counter += 1\n",
    "print(counter)"
   ]
  },
  {
   "cell_type": "code",
   "execution_count": 59,
   "metadata": {},
   "outputs": [
    {
     "name": "stdout",
     "output_type": "stream",
     "text": [
      "128.0\n"
     ]
    }
   ],
   "source": [
    "fraction = 256\n",
    "fraction /= 2 #Equivalent to fraction = fraction / 2\n",
    "print(fraction)"
   ]
  },
  {
   "cell_type": "code",
   "execution_count": 61,
   "metadata": {},
   "outputs": [
    {
     "name": "stdout",
     "output_type": "stream",
     "text": [
      "950.0\n"
     ]
    }
   ],
   "source": [
    "money = 1000\n",
    "tax = 0.05\n",
    "money *= (1 - tax) #Equivalent to money = money * (1 - tax)\n",
    "print(money)"
   ]
  },
  {
   "cell_type": "markdown",
   "metadata": {},
   "source": [
    "### Constants"
   ]
  },
  {
   "cell_type": "markdown",
   "metadata": {},
   "source": [
    "When reviewing code from other programmers or when using modules you might encounter variables with names written in all capital letters with underscores separating words. This is a [convention](https://www.python.org/dev/peps/pep-0008/#constants) to define that variable as a **constant**. You should **avoid** changing the value of constants that you didn't define yourself. You can also use this convention for the same purpose, especially when writing modules."
   ]
  },
  {
   "cell_type": "code",
   "execution_count": null,
   "metadata": {},
   "outputs": [],
   "source": [
    "GRAVITY_EARTH = 9.81\n",
    "PI = 3.14159"
   ]
  },
  {
   "cell_type": "markdown",
   "metadata": {},
   "source": [
    "## Recap"
   ]
  },
  {
   "cell_type": "markdown",
   "metadata": {},
   "source": [
    "- You now know that programming is like writing the recipe that the computer follows to acomplish a task. \n",
    "- Even if it seems complicated at first there are a ton of resources available to help.\n",
    "- By printing or outputting your results and by commenting your code, you'll gradually write better and more complex code.\n",
    "- You can use different types of data and operations to get the results you want.\n",
    "- If your calculations are giving unexpected results, check the **operator precedence**.\n",
    "- And if you don't want to lose the results, you can **assign them to variables** to use later."
   ]
  }
 ],
 "metadata": {
  "kernelspec": {
   "display_name": "Python 3",
   "language": "python",
   "name": "python3"
  },
  "language_info": {
   "codemirror_mode": {
    "name": "ipython",
    "version": 3
   },
   "file_extension": ".py",
   "mimetype": "text/x-python",
   "name": "python",
   "nbconvert_exporter": "python",
   "pygments_lexer": "ipython3",
   "version": "3.6.9"
  }
 },
 "nbformat": 4,
 "nbformat_minor": 2
}
